{
 "cells": [
  {
   "cell_type": "markdown",
   "metadata": {},
   "source": [
    "# H2-AMP-python-introduction\n",
    "\n",
    "Lots borrowed from [Introduction to Python](https://rabernat.github.io/research_computing/intro-to-python.html) and Max Holloway and Paola Arce's previous notes.\n",
    "\n",
    "## Setup\n",
    "\n",
    "### Installation instructions\n",
    "\n",
    "#### Miniconda\n",
    "\n",
    "Miniconda is a free minimal installer for conda.\n",
    "\n",
    "Download Minconda [here](https://docs.conda.io/en/latest/miniconda.html)\n",
    "\n",
    "Double click on the .exe. file and follow the instllation instructions selecting installation for **user only**\n",
    "\n",
    "### Creating a virtual environment\n",
    "\n",
    "Python virtual environments are used to create and manage separate environments \n",
    "for your Python projects (isolated environments for different projects). \n",
    "Python has a unique way of downloading, storing, and resolving packages (or modules).\n",
    "\n",
    "We'll create a python environment with the neccessary dependencies to do some work. \n",
    "\n",
    "We can setup the environemnt in one of two ways:\n",
    "\n",
    "##### At the command line\n",
    "\n",
    "Minvconda comes with Anaconda Prompt. You can find this by typing `Anaconda Prompt` into the windows search bar\n",
    "\n",
    "Open the Anaconda prompt window and run the following code.\n",
    "\n",
    "\tconda create -n h2amp python=3.9 scipy jupyter jupyterlab numpy matplotlib pandas xarray scikit-learn\n",
    "    \n",
    "The second line of code activates the new environment.\n",
    "\n",
    "\tconda activate h2amp\n",
    "\n",
    "##### Using a .yml file\n",
    "\n",
    "You can list the modules you require and their dependencies in a text file called `environment.yml`.I have masde one for you.\n",
    "It also contains the name of your environment. \n",
    "This file can be used to create your virtual environment by entering the folowing code.\n",
    "\n",
    "\tconda env create -f environment.yml\n",
    "\t\n",
    "You can verfiy your environment has been created by typing\n",
    "\n",
    "\tconda env list\n",
    "\t\n",
    "Now activate your new environment\n",
    "\n",
    "\tconda activate h2amp\n",
    "\t\n",
    "### Start programming\t\n",
    "\n",
    "#### Opening Jupyter\n",
    "\n",
    "[Jupyter](https://jupyter.org/) is a web-based interactive computing platform that we can use to write, read, run, and edit Python scripts. \n",
    "There are many others available such as [Spyder](https://www.spyder-ide.org/), [PyCharm](https://www.jetbrains.com/pycharm/) \n",
    "\n",
    "To open Jupyter, we can just write the following in the Anaconda Prompt\n",
    "\n",
    "\tjupyter lab\n"
   ]
  },
  {
   "cell_type": "code",
   "execution_count": null,
   "metadata": {},
   "outputs": [],
   "source": []
  },
  {
   "cell_type": "code",
   "execution_count": null,
   "metadata": {},
   "outputs": [],
   "source": []
  }
 ],
 "metadata": {
  "kernelspec": {
   "display_name": "Python 3 (ipykernel)",
   "language": "python",
   "name": "python3"
  },
  "language_info": {
   "codemirror_mode": {
    "name": "ipython",
    "version": 3
   },
   "file_extension": ".py",
   "mimetype": "text/x-python",
   "name": "python",
   "nbconvert_exporter": "python",
   "pygments_lexer": "ipython3",
   "version": "3.9.16"
  }
 },
 "nbformat": 4,
 "nbformat_minor": 4
}
