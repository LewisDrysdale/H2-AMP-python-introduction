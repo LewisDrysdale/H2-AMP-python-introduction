{
 "cells": [
  {
   "cell_type": "markdown",
   "id": "6d720573-95f3-4151-b20a-08aab65b8abc",
   "metadata": {},
   "source": [
    "# Core Python Language\n",
    "\n",
    "Mostly copied from [Introduction to Python](https://rabernat.github.io/research_computing/intro-to-python.html), which is mostly copied from [The Python Tutorial](https://docs.python.org/3/tutorial/)"
   ]
  },
  {
   "cell_type": "markdown",
   "id": "6ae71824",
   "metadata": {},
   "source": [
    "## Jupyter notebooks\n",
    "\n",
    "A jupyter notebook is just one way of running python. A notebook is a combination of text and code blocks. This is a text block.\n",
    "The text blocks use [Markdown](https://daringfireball.net/projects/markdown/syntax), which is an easy to read and easy to write web text editor. \n",
    "\n",
    "You can format text blocks to give emphasis and structure to your code using text blocks. For example, you can include\n",
    "\n",
    "# Headings\n",
    "## Sub headings\n",
    "### Sub sub headings\n",
    "\n",
    "Ordered lists \n",
    "\n",
    "1. *First item in italics*\n",
    "2. **Second item in bold**\n",
    "3. ***Third item in bold and italics***\n",
    "\n",
    "And links\n",
    "\n",
    "[Markdown Cheat Sheet](https://www.markdownguide.org/cheat-sheet/)\n",
    "\n",
    "You can write anyting in these blocks and the code will run. Text blocks are pretty much exclusive to notebooks. If you use version control such as Git, then you Markdown will also help you there. You need to designate a block as either `Code` or Markdown."
   ]
  },
  {
   "cell_type": "markdown",
   "id": "0228894e-0ef7-4060-97b5-104ed9aa7d51",
   "metadata": {},
   "source": [
    "### Basic Variables: Numbers and Strings"
   ]
  },
  {
   "cell_type": "code",
   "execution_count": 1,
   "id": "bd8547a3-99ac-4af1-99cd-fae770036b67",
   "metadata": {
    "tags": []
   },
   "outputs": [],
   "source": [
    "# This is a code block.\n",
    "# Anything in this box will need to be written using the correct syntax for the code to run\n",
    "# You can still write notes here as comments\n",
    "# comments are anything that comes after the \"#\" symbol and are helpful to you and others as a means of explaining your methods\n",
    "\n",
    "a = 1       # assign 1 to variable a\n",
    "b = \"hello\" # assign \"hello\" to variable b\n",
    "\n",
    "# to run a code or text block, click on the block and use SHIFT + ENTER, or the play button in the tool bar"
   ]
  },
  {
   "cell_type": "markdown",
   "id": "a976f427-74c4-41e9-9645-628e6a10498c",
   "metadata": {
    "tags": []
   },
   "source": [
    "The following identifiers are used as reserved words, or keywords of the language, and cannot be used as ordinary identifiers. They must be spelled exactly as written here:"
   ]
  },
  {
   "cell_type": "raw",
   "id": "4747151a-7775-4928-a5e8-4ec29d72d33b",
   "metadata": {
    "tags": []
   },
   "source": [
    "False      class      finally    is         return\n",
    "None       continue   for        lambda     try\n",
    "True       def        from       nonlocal   while\n",
    "and        del        global     not        with\n",
    "as         elif       if         or         yield\n",
    "assert     else       import     pass\n",
    "break      except     in         raise"
   ]
  },
  {
   "cell_type": "markdown",
   "id": "322026f4-a7be-421d-be8f-90b06054b37f",
   "metadata": {},
   "source": [
    "We can assign and work with variables in much the same way as Matlab"
   ]
  },
  {
   "cell_type": "code",
   "execution_count": 2,
   "id": "354e6017-8244-4f97-8698-bd822165345a",
   "metadata": {
    "tags": []
   },
   "outputs": [],
   "source": [
    "a = 1\n",
    "b = 2\n",
    "c= a +b"
   ]
  },
  {
   "cell_type": "markdown",
   "id": "b51b204b-ef8b-4b3a-8feb-a37898b1a984",
   "metadata": {},
   "source": [
    "To see our result, we need to use `print`"
   ]
  },
  {
   "cell_type": "code",
   "execution_count": 3,
   "id": "d23369f9-bcf7-40e5-9762-6411d440da7e",
   "metadata": {
    "tags": []
   },
   "outputs": [
    {
     "name": "stdout",
     "output_type": "stream",
     "text": [
      "3\n"
     ]
    }
   ],
   "source": [
    "print(c)"
   ]
  },
  {
   "cell_type": "markdown",
   "id": "7ac76970-1e75-46cb-b320-a34e008c6c47",
   "metadata": {},
   "source": [
    "It's the same deal with strings"
   ]
  },
  {
   "cell_type": "code",
   "execution_count": 4,
   "id": "4b218492-635c-4d87-aeb1-cd534d68a1bd",
   "metadata": {
    "tags": []
   },
   "outputs": [
    {
     "name": "stdout",
     "output_type": "stream",
     "text": [
      "Helloworld\n"
     ]
    }
   ],
   "source": [
    "a='Hello'\n",
    "b='world'\n",
    "c=a + b\n",
    "print(c)"
   ]
  },
  {
   "cell_type": "markdown",
   "id": "b57fb1c5-2645-43ff-b380-346dbebeda53",
   "metadata": {},
   "source": [
    "In python you need to import the modules that you want to use (modules are similar to toolboxes in MATLAB). There are modules for just about anything you want to do.\n",
    "\n",
    "A module is essentially a file containing a set of functions, known as python definitions and statements (like MATLAB functions). Modules are an extension on Python rather than separate programming languages, using Python syntax. You can import an entire module or individual definitions (functions) from a module to use in the main workspace. There are hundreds of modules available and you can also write your own modules to optimize your own workflows."
   ]
  },
  {
   "cell_type": "markdown",
   "id": "7e722ec6",
   "metadata": {},
   "source": [
    "### Basic math\n",
    "\n",
    "Python has in built math functions for basic arithmetic. The code block below demonstrates some basic examples."
   ]
  },
  {
   "cell_type": "code",
   "execution_count": 5,
   "id": "bbbc35ce-6978-42ac-b3f7-6b18cf7c4388",
   "metadata": {},
   "outputs": [
    {
     "name": "stdout",
     "output_type": "stream",
     "text": [
      "5\n",
      "25\n"
     ]
    }
   ],
   "source": [
    "x = min(5, 10, 25)\n",
    "y = max(5, 10, 25)\n",
    "\n",
    "print(x)\n",
    "print(y)"
   ]
  },
  {
   "cell_type": "code",
   "execution_count": 6,
   "id": "c30760e6-ae8e-4550-964d-57b388b706be",
   "metadata": {},
   "outputs": [
    {
     "name": "stdout",
     "output_type": "stream",
     "text": [
      "7.25\n"
     ]
    }
   ],
   "source": [
    "x = abs(-7.25)\n",
    "\n",
    "print(x)"
   ]
  },
  {
   "cell_type": "code",
   "execution_count": 7,
   "id": "8a2794af-0537-4f9c-8f4f-11b4df7216be",
   "metadata": {},
   "outputs": [
    {
     "name": "stdout",
     "output_type": "stream",
     "text": [
      "64\n"
     ]
    }
   ],
   "source": [
    "x = pow(4, 3)\n",
    "\n",
    "print(x)"
   ]
  },
  {
   "cell_type": "markdown",
   "id": "97735ac4-e391-47be-97fe-96d40d5d1de8",
   "metadata": {},
   "source": [
    "### The math module\n",
    "\n",
    "You can also import math modules for more advanced functions. \n",
    "\n",
    "You can do this in two ways:\n",
    "\n",
    "1. You can import the whole module\n",
    "\n",
    "    `import math`\n",
    "\n",
    "2. Or you can just take the functions you want\n",
    "\n",
    "    `from math import sqrt, pi`"
   ]
  },
  {
   "cell_type": "code",
   "execution_count": 8,
   "id": "5b42d59f",
   "metadata": {},
   "outputs": [],
   "source": [
    "from math import sqrt, pi # get the sqrt and pi functions\n",
    "import math # import everything"
   ]
  },
  {
   "cell_type": "code",
   "execution_count": 9,
   "id": "9ce63ec4-6772-4210-b890-10d31da452ee",
   "metadata": {},
   "outputs": [
    {
     "name": "stdout",
     "output_type": "stream",
     "text": [
      "8.0\n"
     ]
    }
   ],
   "source": [
    "x = sqrt(64)\n",
    "# x = sqrt(64) # if sqrt has been imported from the math module\n",
    "\n",
    "print(x)"
   ]
  },
  {
   "cell_type": "code",
   "execution_count": 10,
   "id": "4b4ba052-2f16-48d2-be44-45020cddaa8b",
   "metadata": {},
   "outputs": [
    {
     "name": "stdout",
     "output_type": "stream",
     "text": [
      "3.141592653589793\n"
     ]
    }
   ],
   "source": [
    "x = pi\n",
    "# x = pi\n",
    "\n",
    "print(x)"
   ]
  },
  {
   "cell_type": "code",
   "execution_count": 11,
   "id": "675ca5d8-3554-4466-9036-322334d35892",
   "metadata": {},
   "outputs": [
    {
     "data": {
      "text/plain": [
       "'Area of a Circle = 3.142 * 5**2 = 78.54'"
      ]
     },
     "execution_count": 11,
     "metadata": {},
     "output_type": "execute_result"
    }
   ],
   "source": [
    "r = 5\n",
    "area = pi * r**2\n",
    "f\"Area of a Circle = {pi:.4} * {r}**2 = {area:.4}\" \n",
    "# f is formatted string literal or f-string is a string literal that is prefixed with f or F. \n",
    "# These strings may contain replacement fields, which are expressions delimited by curly braces {}."
   ]
  },
  {
   "cell_type": "code",
   "execution_count": 12,
   "id": "e898a795-91df-4652-bf79-ed4fb3c41815",
   "metadata": {},
   "outputs": [
    {
     "name": "stdout",
     "output_type": "stream",
     "text": [
      "2\n",
      "1\n"
     ]
    }
   ],
   "source": [
    "x = math.ceil(1.4)\n",
    "y = math.floor(1.4)\n",
    "\n",
    "print(x) \n",
    "print(y) "
   ]
  },
  {
   "cell_type": "markdown",
   "id": "edaaa725",
   "metadata": {},
   "source": [
    "# NumPy and Matplotlib"
   ]
  },
  {
   "cell_type": "markdown",
   "id": "c05b45e5",
   "metadata": {},
   "source": [
    "NumPy (Numerical Python) is an open source Python library for scientific and numeric computing that lets you work with multi-dimensional arrays far more efficiently than Python alone. NumPy aims to provide an array object that is up to 50x faster and takes a lot less memory that traditional Python lists.\n",
    "\n",
    "NumPy is often used along with packages like SciPy (Scientific Python) and Mat−plotlib (plotting library). This combination of NumPy, SciPy and Matplotlib is widely used as a free open-source replacement for MATLAB (the syntax is also very similar). \n",
    "\n",
    "Below we will generate some data using NumPy and plot with matplotlib."
   ]
  },
  {
   "cell_type": "code",
   "execution_count": 13,
   "id": "985b522e-8060-469d-8eb3-d741e7c3f5ba",
   "metadata": {},
   "outputs": [
    {
     "name": "stdout",
     "output_type": "stream",
     "text": [
      "-3.141592653589793\n",
      "3.141592653589793\n",
      "[-0.96979694 -0.96349314 -0.95660442 -0.94913494 -0.94108925 -0.93247223\n",
      " -0.92328911 -0.91354546 -0.9032472  -0.89240058]\n"
     ]
    }
   ],
   "source": [
    "import numpy as np\n",
    "\n",
    "X = np.linspace(-np.pi, np.pi, 256)\n",
    "C, S = np.cos(X), np.sin(X)\n",
    "\n",
    "# Python indexing (starts at 0!)\n",
    "\n",
    "print(X[0])\n",
    "print(X[-1])\n",
    "print(C[10:20])"
   ]
  },
  {
   "cell_type": "markdown",
   "id": "d525671e-bcfa-44de-a57d-111278642b9b",
   "metadata": {
    "tags": []
   },
   "source": [
    "#### Now plot with PyPlot"
   ]
  },
  {
   "cell_type": "code",
   "execution_count": 14,
   "id": "f541c658-9387-4d2d-8659-014f3c4370e8",
   "metadata": {},
   "outputs": [
    {
     "data": {
      "image/png": "[encoded data removed]",
      "text/plain": [
       "<Figure size 640x480 with 1 Axes>"
      ]
     },
     "metadata": {},
     "output_type": "display_data"
    }
   ],
   "source": [
    "import matplotlib.pyplot as plt\n",
    "\n",
    "plt.plot(X, C)\n",
    "plt.plot(X, S)\n",
    "\n",
    "plt.show()"
   ]
  },
  {
   "cell_type": "markdown",
   "id": "ea088872",
   "metadata": {},
   "source": [
    "# Conditional loops"
   ]
  },
  {
   "cell_type": "code",
   "execution_count": 15,
   "id": "9f1a56db",
   "metadata": {},
   "outputs": [
    {
     "name": "stdout",
     "output_type": "stream",
     "text": [
      "Mid-latitude\n"
     ]
    }
   ],
   "source": [
    "latitude = 56.5\n",
    "if abs(latitude) < 23.5:\n",
    "    print('Tropical')\n",
    "elif abs(latitude) > 66.5:\n",
    "    print('Polar')\n",
    "else:\n",
    "    print('Mid-latitude')"
   ]
  },
  {
   "cell_type": "markdown",
   "id": "e116a9f6",
   "metadata": {},
   "source": [
    "# Definitions (Functions)"
   ]
  },
  {
   "cell_type": "code",
   "execution_count": 16,
   "id": "8235f6bc",
   "metadata": {},
   "outputs": [
    {
     "name": "stdout",
     "output_type": "stream",
     "text": [
      "At 45 degrees latitude you are in the Mid-latitudes\n",
      "You are at the South Pole\n",
      "At -80 degrees latitude you are in the Polar regions\n",
      "At -70 degrees latitude you are in the Polar regions\n",
      "At -60 degrees latitude you are in the Mid-latitudes\n",
      "At -50 degrees latitude you are in the Mid-latitudes\n",
      "At -40 degrees latitude you are in the Mid-latitudes\n",
      "At -30 degrees latitude you are in the Mid-latitudes\n",
      "At -20 degrees latitude you are in the Tropics\n",
      "At -10 degrees latitude you are in the Tropics\n",
      "You are on the Equator!\n",
      "At 0 degrees latitude you are in the Tropics\n",
      "At 10 degrees latitude you are in the Tropics\n",
      "At 20 degrees latitude you are in the Tropics\n",
      "At 30 degrees latitude you are in the Mid-latitudes\n",
      "At 40 degrees latitude you are in the Mid-latitudes\n",
      "At 50 degrees latitude you are in the Mid-latitudes\n",
      "At 60 degrees latitude you are in the Mid-latitudes\n",
      "At 70 degrees latitude you are in the Polar regions\n",
      "At 80 degrees latitude you are in the Polar regions\n",
      "You are at the North Pole\n"
     ]
    }
   ],
   "source": [
    "def latitude_band(latitude):\n",
    "    \"\"\"\n",
    "    print latitude zone for a given latitude\n",
    "    \"\"\"\n",
    "    text='degrees latitude you are in the'\n",
    "    if latitude == 0.0:\n",
    "        print('You are on the Equator!')\n",
    "    if abs(latitude) > 90:\n",
    "        raise Exception(\"Sorry, this is not a real latitude\")\n",
    "    elif latitude == 90:\n",
    "        print('You are at the North Pole')\n",
    "    elif latitude == -90:\n",
    "        print('You are at the South Pole')\n",
    "    elif abs(latitude) < 23.5:\n",
    "        print('At {} {} Tropics'.format(latitude,text))\n",
    "    elif abs(latitude) > 66.5:\n",
    "        print('At {} {} Polar regions'.format(latitude,text))\n",
    "    else:\n",
    "        print('At {} {} Mid-latitudes'.format(latitude,text))\n",
    "\n",
    "#latitude_band?\n",
    "\n",
    "latitude_band(45)\n",
    "\n",
    "#latitude_band(100)\n",
    "\n",
    "for lat in np.arange(-90,91,10): \n",
    "    latitude_band(lat)"
   ]
  },
  {
   "cell_type": "markdown",
   "id": "a9f637cb",
   "metadata": {},
   "source": [
    "# SciPy - for advanced statistics"
   ]
  },
  {
   "cell_type": "markdown",
   "id": "c7577d6e",
   "metadata": {},
   "source": [
    "SciPy (Scientific Python) has inbuilt functions for most/all statistical operations. Here we will use NumPy to generate some periodic data, SciPy to do some curve fitting and matplotlib to visulize the results.\n",
    "\n",
    "We will use a curve fit example from [SciPy examples page](https://programming-review.com/python/scipy-examples)"
   ]
  },
  {
   "cell_type": "code",
   "execution_count": 25,
   "id": "8080f57c",
   "metadata": {},
   "outputs": [
    {
     "name": "stdout",
     "output_type": "stream",
     "text": [
      "[2.39307614 1.47824467]\n"
     ]
    },
    {
     "data": {
      "image/png": "[encoded data removed]",
      "text/plain": [
       "<Figure size 800x600 with 1 Axes>"
      ]
     },
     "metadata": {},
     "output_type": "display_data"
    }
   ],
   "source": [
    "from scipy import optimize\n",
    "\n",
    "x_data = np.linspace(-5, 5, num=50)\n",
    "y_data = 2.9 * np.sin(1.5 * x_data) + np.random.normal(size=50)\n",
    "\n",
    "fig, ax = plt.subplots(figsize=(8,6))\n",
    "\n",
    "def test_func(x, a, b):\n",
    "    return a * np.sin(b * x)\n",
    "\n",
    "params, params_covariance = optimize.curve_fit(test_func, x_data, y_data, p0=[2, 2])\n",
    "print(params)\n",
    "ax.scatter(x_data,y_data)\n",
    "ax.plot(x_data, test_func(x_data,params[0], params[1]), c='r')\n",
    "plt.show()"
   ]
  }
 ],
 "metadata": {
  "kernelspec": {
   "display_name": "Python 3 (ipykernel)",
   "language": "python",
   "name": "python3"
  },
  "language_info": {
   "codemirror_mode": {
    "name": "ipython",
    "version": 3
   },
   "file_extension": ".py",
   "mimetype": "text/x-python",
   "name": "python",
   "nbconvert_exporter": "python",
   "pygments_lexer": "ipython3",
   "version": "3.9.18"
  }
 },
 "nbformat": 4,
 "nbformat_minor": 5
}
